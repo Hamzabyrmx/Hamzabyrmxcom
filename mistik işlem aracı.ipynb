{
 "cells": [
  {
   "cell_type": "code",
   "execution_count": 4,
   "metadata": {},
   "outputs": [
    {
     "name": "stdout",
     "output_type": "stream",
     "text": [
      "### Hamzanın Mistik işlem aracı ###\n",
      "50 * 35 = 1750\n"
     ]
    }
   ],
   "source": [
    "\n",
    "def Toplama(a,b):    \n",
    "   return a + b\n",
    "\n",
    "def Cikarma(a,b):   \n",
    "   return a - b \n",
    "\n",
    "def Bolme(a,b):     \n",
    "   return a / b\n",
    "\n",
    "def Carpma(a,b):    \n",
    "   return a * b\n",
    "\n",
    "islem_secimi = input('toplama yapmak için [1]''\\n''Çıkarma yapmak için [2]''\\n''Bölme yapmak için [3]''\\n''Çarpma yapmak için [4]')\n",
    "print(\"#\"*3, 'Hamzanın Mistik işlem aracı', \"#\"*3)\n",
    "\n",
    "\n",
    "sayi1 = int(input(\"1. Sayı: \"))\n",
    "sayi2 = int(input(\"2. Sayı: \"))\n",
    "\n",
    "if islem_secimi == '1':\n",
    "   print(sayi1,\"+\",sayi2,\"=\", Toplama(sayi1,sayi2))\n",
    "\n",
    "elif islem_secimi == '2':\n",
    "   print(sayi1,\"-\",sayi2,\"=\", Cikarma(sayi1,sayi2))\n",
    "\n",
    "elif islem_secimi == '3':\n",
    "   print(sayi1,\"/\",sayi2,\"=\", Bolme(sayi1,sayi2))\n",
    "\n",
    "elif islem_secimi == '4':\n",
    "   print(sayi1,\"*\",sayi2,\"=\", Carpma(sayi1,sayi2))\n",
    "\n",
    "\n",
    "else:\n",
    "   print(\"Geçersiz işlem yaptınız tekrar deneyiniz\")"
   ]
  }
 ],
 "metadata": {
  "interpreter": {
   "hash": "7daeaf6ab2c0b2965790a1b50e83d90e1263a419ffe41b403ce8442f5f40a795"
  },
  "kernelspec": {
   "display_name": "Python 3.8.8 32-bit ('base': conda)",
   "language": "python",
   "name": "python3"
  },
  "language_info": {
   "codemirror_mode": {
    "name": "ipython",
    "version": 3
   },
   "file_extension": ".py",
   "mimetype": "text/x-python",
   "name": "python",
   "nbconvert_exporter": "python",
   "pygments_lexer": "ipython3",
   "version": "3.8.8"
  },
  "orig_nbformat": 4
 },
 "nbformat": 4,
 "nbformat_minor": 2
}
